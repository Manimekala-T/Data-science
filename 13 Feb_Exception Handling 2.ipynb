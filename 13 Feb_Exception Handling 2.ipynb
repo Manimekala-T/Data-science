{
 "cells": [
  {
   "cell_type": "markdown",
   "id": "ca1851c7-ecbf-419a-801b-f3db7991e2d5",
   "metadata": {},
   "source": [
    "Q1. We need Exception class for creating custom exception. Because to use the exception types, we are inheriting the exception class in the base class. custom exception makes code more readable as per user need."
   ]
  },
  {
   "cell_type": "markdown",
   "id": "95cd83cf-a17a-420c-a5bf-3e1c89a238c3",
   "metadata": {},
   "source": [
    "Q3.ArithmeticError is an error that occurs during numeric calculations.They are\n",
    "                OverFlowError\n",
    "                ZeroDivisionError\n",
    "                FloatingPointError"
   ]
  },
  {
   "cell_type": "code",
   "execution_count": 1,
   "id": "c20cdd26-efc7-4abc-be0e-88a9bba373f5",
   "metadata": {},
   "outputs": [
    {
     "ename": "ZeroDivisionError",
     "evalue": "division by zero",
     "output_type": "error",
     "traceback": [
      "\u001b[0;31m---------------------------------------------------------------------------\u001b[0m",
      "\u001b[0;31mZeroDivisionError\u001b[0m                         Traceback (most recent call last)",
      "Cell \u001b[0;32mIn[1], line 1\u001b[0m\n\u001b[0;32m----> 1\u001b[0m arithmetic \u001b[38;5;241m=\u001b[39m \u001b[38;5;241;43m5\u001b[39;49m\u001b[38;5;241;43m/\u001b[39;49m\u001b[38;5;241;43m0\u001b[39;49m\n\u001b[1;32m      2\u001b[0m \u001b[38;5;28mprint\u001b[39m(arithmetic)\n",
      "\u001b[0;31mZeroDivisionError\u001b[0m: division by zero"
     ]
    }
   ],
   "source": [
    "arithmetic = 5/0\n",
    "print(arithmetic)"
   ]
  },
  {
   "cell_type": "code",
   "execution_count": 2,
   "id": "5e026b1e-47c0-460e-b6bc-35446b6dc6c8",
   "metadata": {},
   "outputs": [
    {
     "name": "stdout",
     "output_type": "stream",
     "text": [
      "division by zero\n"
     ]
    }
   ],
   "source": [
    "try:\n",
    "    arithmetic=5/0\n",
    "except ZeroDivisionError as e:\n",
    "    print(e)"
   ]
  },
  {
   "cell_type": "markdown",
   "id": "5a1ea1bd-3bc0-4705-b23e-ef88a9bc6222",
   "metadata": {},
   "source": [
    "An OverflowError exception is raised when an arithmetic operation exceeds the limits to be represented. "
   ]
  },
  {
   "cell_type": "code",
   "execution_count": 3,
   "id": "141c3a8e-68cf-4dd8-be23-f21c1c95f54b",
   "metadata": {},
   "outputs": [
    {
     "name": "stdout",
     "output_type": "stream",
     "text": [
      "the square is %d 6.0\n",
      "the square is %d 36.0\n",
      "the square is %d 46656.0\n",
      "the square is %d 4.738381338321617e+18\n",
      "the square is %d 2.38863639936011e+93\n"
     ]
    },
    {
     "ename": "OverflowError",
     "evalue": "(34, 'Numerical result out of range')",
     "output_type": "error",
     "traceback": [
      "\u001b[0;31m---------------------------------------------------------------------------\u001b[0m",
      "\u001b[0;31mOverflowError\u001b[0m                             Traceback (most recent call last)",
      "Cell \u001b[0;32mIn[3], line 4\u001b[0m\n\u001b[1;32m      1\u001b[0m j\u001b[38;5;241m=\u001b[39m\u001b[38;5;241m6.0\u001b[39m\n\u001b[1;32m      3\u001b[0m \u001b[38;5;28;01mfor\u001b[39;00m i \u001b[38;5;129;01min\u001b[39;00m \u001b[38;5;28mrange\u001b[39m(\u001b[38;5;241m1\u001b[39m,\u001b[38;5;241m2000\u001b[39m):\n\u001b[0;32m----> 4\u001b[0m     j\u001b[38;5;241m=\u001b[39m\u001b[43mj\u001b[49m\u001b[38;5;241;43m*\u001b[39;49m\u001b[38;5;241;43m*\u001b[39;49m\u001b[43mi\u001b[49m\n\u001b[1;32m      5\u001b[0m     \u001b[38;5;28mprint\u001b[39m(\u001b[38;5;124mf\u001b[39m\u001b[38;5;124m\"\u001b[39m\u001b[38;5;124mthe square is %d\u001b[39m\u001b[38;5;124m\"\u001b[39m,j)\n",
      "\u001b[0;31mOverflowError\u001b[0m: (34, 'Numerical result out of range')"
     ]
    }
   ],
   "source": [
    "j=6.0\n",
    "\n",
    "for i in range(1,2000):\n",
    "    j=j**i\n",
    "    print(f\"the square is %d\",j)"
   ]
  },
  {
   "cell_type": "code",
   "execution_count": 2,
   "id": "c39450d6-ed26-4fab-82d7-0f2fd14cd215",
   "metadata": {},
   "outputs": [
    {
     "name": "stdout",
     "output_type": "stream",
     "text": [
      "9.0\n",
      "81.0\n",
      "531441.0\n",
      "7.976644307687251e+22\n",
      "3.229246017998555e+114\n",
      "(34, 'Numerical result out of range'), <class 'OverflowError'>\n"
     ]
    }
   ],
   "source": [
    "try:\n",
    "    j=9.0\n",
    "    for i in range(1,1000):\n",
    "        j=j**i\n",
    "        print(j)\n",
    "except OverflowError as e:\n",
    "    print(f\"{e}, {e.__class__}\")"
   ]
  },
  {
   "cell_type": "markdown",
   "id": "00981ff6-090c-42bc-9173-a648377c0f1d",
   "metadata": {},
   "source": [
    "Q4. Lookup error is the base class of all exceptions that are raised when an index or key are not found for a squence or dictionary respectively."
   ]
  },
  {
   "cell_type": "code",
   "execution_count": 5,
   "id": "6b8aa775-0deb-4975-accc-c6c8d0c183da",
   "metadata": {},
   "outputs": [
    {
     "ename": "IndexError",
     "evalue": "list index out of range",
     "output_type": "error",
     "traceback": [
      "\u001b[0;31m---------------------------------------------------------------------------\u001b[0m",
      "\u001b[0;31mIndexError\u001b[0m                                Traceback (most recent call last)",
      "Cell \u001b[0;32mIn[5], line 2\u001b[0m\n\u001b[1;32m      1\u001b[0m x\u001b[38;5;241m=\u001b[39m[\u001b[38;5;241m1\u001b[39m,\u001b[38;5;241m2\u001b[39m,\u001b[38;5;241m3\u001b[39m,\u001b[38;5;241m4\u001b[39m,\u001b[38;5;241m5\u001b[39m]\n\u001b[0;32m----> 2\u001b[0m \u001b[38;5;28mprint\u001b[39m(\u001b[43mx\u001b[49m\u001b[43m[\u001b[49m\u001b[38;5;241;43m8\u001b[39;49m\u001b[43m]\u001b[49m)\n",
      "\u001b[0;31mIndexError\u001b[0m: list index out of range"
     ]
    }
   ],
   "source": [
    "x=[1,2,3,4,5]\n",
    "print(x[8])"
   ]
  },
  {
   "cell_type": "code",
   "execution_count": 6,
   "id": "4a331665-6db5-4e43-bf8e-4e67f392a6b3",
   "metadata": {},
   "outputs": [
    {
     "name": "stdout",
     "output_type": "stream",
     "text": [
      "list index out of range\n"
     ]
    }
   ],
   "source": [
    "x=[1,2,3,4.5]\n",
    "try:\n",
    "    print(x[8])\n",
    "except IndexError as e:\n",
    "    print(e)"
   ]
  },
  {
   "cell_type": "code",
   "execution_count": 7,
   "id": "b71dda79-b732-4a92-a9fa-dc2f3510f48c",
   "metadata": {},
   "outputs": [
    {
     "name": "stdout",
     "output_type": "stream",
     "text": [
      "the key not found: 'role'\n"
     ]
    }
   ],
   "source": [
    "new_dict = {'name':'mani','course':'datascience'}\n",
    "try:\n",
    "    new_key = new_dict['role']\n",
    "    print(new_key)\n",
    "except KeyError as e:\n",
    "    print(\"the key not found:\",e)"
   ]
  },
  {
   "cell_type": "markdown",
   "id": "c0394139-f5b0-419c-9439-a406c716a0eb",
   "metadata": {},
   "source": [
    "Q5. when importing any module and there is any trouble in importing modules to the program then there is a chance of ImportError occurrence.\n",
    "There are two conditions when the ImportError will be raised. They are\n",
    "\n",
    "If the module does not exist.\n",
    "If we are trying to import submodule from the module"
   ]
  },
  {
   "cell_type": "code",
   "execution_count": 9,
   "id": "49a33bd6-5ba9-4276-af48-410f0c37d93a",
   "metadata": {},
   "outputs": [
    {
     "ename": "ModuleNotFoundError",
     "evalue": "No module named 'keymodule'",
     "output_type": "error",
     "traceback": [
      "\u001b[0;31m---------------------------------------------------------------------------\u001b[0m",
      "\u001b[0;31mModuleNotFoundError\u001b[0m                       Traceback (most recent call last)",
      "Cell \u001b[0;32mIn[9], line 1\u001b[0m\n\u001b[0;32m----> 1\u001b[0m \u001b[38;5;28;01mimport\u001b[39;00m \u001b[38;5;21;01mkeymodule\u001b[39;00m\n",
      "\u001b[0;31mModuleNotFoundError\u001b[0m: No module named 'keymodule'"
     ]
    }
   ],
   "source": [
    "import keymodule"
   ]
  },
  {
   "cell_type": "markdown",
   "id": "97acef98-6afc-4c67-b7bd-853fc44eae7b",
   "metadata": {},
   "source": [
    "when we are installing any module which is not present in python then module error occurs"
   ]
  },
  {
   "cell_type": "code",
   "execution_count": 12,
   "id": "5612075a-19a4-4794-a6d7-6ca18f5f50f9",
   "metadata": {},
   "outputs": [
    {
     "name": "stdout",
     "output_type": "stream",
     "text": [
      "module not exists No module named 'keymodule'\n"
     ]
    }
   ],
   "source": [
    "try:\n",
    "    import keymodule\n",
    "except ModuleNotFoundError as e:\n",
    "    print(\"module not exists\",e)"
   ]
  },
  {
   "cell_type": "markdown",
   "id": "28d86728-e654-46e0-9236-804e8c22728a",
   "metadata": {},
   "source": [
    "Q6. Make generic exception into specific exception for the particular exception.\n",
    "    always try to log\n",
    "    always avoid to write a multiple exception handling\n",
    "    prepare a proper documentation\n",
    "    clean up all resources"
   ]
  },
  {
   "cell_type": "code",
   "execution_count": null,
   "id": "5d5b7aec-66bf-47b6-a465-f77c84b2052a",
   "metadata": {},
   "outputs": [],
   "source": []
  },
  {
   "cell_type": "code",
   "execution_count": null,
   "id": "32cb519c-0bf0-4e1c-bc3e-63b508472f7f",
   "metadata": {},
   "outputs": [],
   "source": []
  }
 ],
 "metadata": {
  "kernelspec": {
   "display_name": "Python 3 (ipykernel)",
   "language": "python",
   "name": "python3"
  },
  "language_info": {
   "codemirror_mode": {
    "name": "ipython",
    "version": 3
   },
   "file_extension": ".py",
   "mimetype": "text/x-python",
   "name": "python",
   "nbconvert_exporter": "python",
   "pygments_lexer": "ipython3",
   "version": "3.10.8"
  }
 },
 "nbformat": 4,
 "nbformat_minor": 5
}
