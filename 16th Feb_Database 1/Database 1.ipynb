{
 "cells": [
  {
   "cell_type": "markdown",
   "id": "4c506c79-2f12-4dd9-9157-023838e134dd",
   "metadata": {},
   "source": [
    "Q1. What is a database? Differentiate between SQL and NoSQL databases.\n",
    "\n",
    "Database : an organized collection of data and information or interrelated data collected at one place.\n",
    "\n",
    "SQL is a structured query language.(eg:mysql,mssql,db2,oracle) which has ordered data.\n",
    "NoSql is unstructured query language which has data in the format of text,audio,documents based,images.eg(mongoDB,cassandra,Hbase,Neo4j,Influx)\n"
   ]
  },
  {
   "cell_type": "markdown",
   "id": "1f6fe03a-d7c9-41fe-be27-425a267dbd3f",
   "metadata": {},
   "source": [
    "Q5. Primary and foreign key:\n",
    "The PRIMARY KEY constraint uniquely identifies each record in a table.\n",
    "Primary keys must contain UNIQUE values, and cannot contain NULL values.\n",
    "A table can have only ONE primary key; and in the table, this primary key can consist of single or multiple columns (fields).\n",
    "\n",
    "The FOREIGN KEY constraint is used to prevent actions that would destroy links between tables.\n",
    "A FOREIGN KEY is a field (or collection of fields) in one table, that refers to the PRIMARY KEY in another table.\n",
    "The table with the foreign key is called the child table, and the table with the primary key is called the referenced or parent table."
   ]
  },
  {
   "cell_type": "markdown",
   "id": "e33e384c-a182-4419-89e3-07cd714ead9c",
   "metadata": {},
   "source": [
    "Q7.\n",
    "FROM,\n",
    "ON,\n",
    "JOIN,\n",
    "WHERE,\n",
    "GROUP BY,\n",
    "WITH CUBE or WITH ROLLUP,\n",
    "HAVING,\n",
    "SELECT,\n",
    "DISTINCT,\n",
    "ORDER BY,\n",
    "TOP"
   ]
  },
  {
   "cell_type": "markdown",
   "id": "58eb33c7-5e55-4958-a5e0-43543b02cfbe",
   "metadata": {},
   "source": [
    "Remanining files are in .py format"
   ]
  },
  {
   "cell_type": "code",
   "execution_count": null,
   "id": "642c7535-3111-4ed2-8d2b-9cd0a74fcd7b",
   "metadata": {},
   "outputs": [],
   "source": []
  }
 ],
 "metadata": {
  "kernelspec": {
   "display_name": "Python 3 (ipykernel)",
   "language": "python",
   "name": "python3"
  },
  "language_info": {
   "codemirror_mode": {
    "name": "ipython",
    "version": 3
   },
   "file_extension": ".py",
   "mimetype": "text/x-python",
   "name": "python",
   "nbconvert_exporter": "python",
   "pygments_lexer": "ipython3",
   "version": "3.10.8"
  }
 },
 "nbformat": 4,
 "nbformat_minor": 5
}
