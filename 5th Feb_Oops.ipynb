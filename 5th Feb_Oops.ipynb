{
  "metadata": {
    "language_info": {
      "codemirror_mode": {
        "name": "python",
        "version": 3
      },
      "file_extension": ".py",
      "mimetype": "text/x-python",
      "name": "python",
      "nbconvert_exporter": "python",
      "pygments_lexer": "ipython3",
      "version": "3.8"
    },
    "kernelspec": {
      "name": "python",
      "display_name": "Python (Pyodide)",
      "language": "python"
    }
  },
  "nbformat_minor": 4,
  "nbformat": 4,
  "cells": [
    {
      "cell_type": "markdown",
      "source": "Q1.Class:\n---------  \n\nA class is considered as a blueprint of objects.\n\neg:We can think of the class as a sketch (prototype) of a house. It contains all the details about the floors, doors, windows, etc. Based on these descriptions we build the house. House is the object.\n\nSince many houses can be made from the same description, we can create many objects from a class.\n\nObject:\n-------\n\nAn object is called an instance of a class\n\neg: suppose house is a class then we can create objects like house1, house2, etc from the class.\n",
      "metadata": {
        "jp-MarkdownHeadingCollapsed": true,
        "tags": []
      }
    },
    {
      "cell_type": "markdown",
      "source": "Q2.Four pillars of oops:\n------------------------\n\n    -Abstraction\n    -Encapsulation\n    -Inheritance\n    -Polymorphism",
      "metadata": {}
    },
    {
      "cell_type": "markdown",
      "source": "Q3.__init__ function:\n---------------------\n\n__init__ function is an constructors which is used to initialize(assign values) to the data members of the class when an object of the class is created.\n\nA Sample class with init method:\n--------------------------------\nclass Person:\n\n\t# init method or constructor\n\tdef __init__(self, name):\n\t\tself.name = name\n\n\t# Sample Method\n\tdef say_hi(self):\n\t\tprint('Hello, my name is', self.name)\n\n\np = Person('mani')\np.say_hi()\n",
      "metadata": {}
    },
    {
      "cell_type": "markdown",
      "source": "Q4.self:\n-------------\n\nThe keyword self represents the instance of a class and binds the attributes with the given arguments.\nSimilarly, many objects of the Person class can be created by passing different names as arguments.\n\neg:\n\nA Sample class with init method:\n--------------------------------\n\nclass Person:\n\n\t# init method or constructor\n\tdef __init__(self, name):\n\t\tself.name = name\n\n\t# Sample Method\n\tdef say_hi(self):\n\t\tprint('Hello, my name is', self.name)\n",
      "metadata": {}
    },
    {
      "cell_type": "markdown",
      "source": "\n# Creating different objects\np1 = Person('p1')\np2 = Person('p2')\np3 = Person('p3')\n\np1.say_hi()\np2.say_hi()\np3.say_hi()\n",
      "metadata": {}
    },
    {
      "cell_type": "markdown",
      "source": "Q5.Inheritance:\n----------------\nInheritance allows us to define a class that inherits all the methods and properties from another class. Parent class is the class being inherited from, also called base class. Child class is the class that inherits from another class, also called derived class.\n\nTypes:\n------\n\n1.Multiple inheritance\n2.Multilabel iheritance\n3.Hieranchial inheritance\n4.Hybrid inheritance",
      "metadata": {}
    },
    {
      "cell_type": "code",
      "source": "#eg for multilabel inheritance:\n\nclass class1:\n        def test_class1(self):\n            print(\"This is my class1\")\nclass class2(class1):\n        def test_class2(self):\n            print(\"this is class2\")\nclass class3(class2):\n        def test_class3(self):\n            print(\"this is my class3\")\n            \n#In the above example class3 can access class2",
      "metadata": {
        "trusted": true
      },
      "execution_count": 6,
      "outputs": []
    },
    {
      "cell_type": "code",
      "source": "ob3=class3()",
      "metadata": {
        "trusted": true
      },
      "execution_count": 7,
      "outputs": []
    },
    {
      "cell_type": "code",
      "source": "ob3.test_class2()",
      "metadata": {
        "trusted": true
      },
      "execution_count": 8,
      "outputs": [
        {
          "name": "stdout",
          "text": "this is class2\n",
          "output_type": "stream"
        }
      ]
    },
    {
      "cell_type": "markdown",
      "source": "In the above example class3 can access test class 2 and test class3\n",
      "metadata": {}
    },
    {
      "cell_type": "code",
      "source": "ob2=class2()\n",
      "metadata": {
        "trusted": true
      },
      "execution_count": 11,
      "outputs": []
    },
    {
      "cell_type": "code",
      "source": "ob2.test_class1()",
      "metadata": {
        "trusted": true
      },
      "execution_count": 12,
      "outputs": [
        {
          "name": "stdout",
          "text": "This is my class1\n",
          "output_type": "stream"
        }
      ]
    },
    {
      "cell_type": "markdown",
      "source": "class2 can access class1 and class2 ",
      "metadata": {}
    },
    {
      "cell_type": "code",
      "source": "#eg for multiple inheritance:\n\nclass class1:\n        def test_class1(self):\n            print(\"This is my class1\")\n",
      "metadata": {
        "trusted": true
      },
      "execution_count": 21,
      "outputs": []
    },
    {
      "cell_type": "code",
      "source": "         \nclass class2(class1):\n        def test_class2(self):\n            print(\"this is class2\")",
      "metadata": {
        "trusted": true
      },
      "execution_count": 18,
      "outputs": []
    },
    {
      "cell_type": "code",
      "source": "class class3(class1,class2):\n        pass",
      "metadata": {
        "trusted": true
      },
      "execution_count": 22,
      "outputs": []
    },
    {
      "cell_type": "code",
      "source": "ob3=class3()",
      "metadata": {
        "trusted": true
      },
      "execution_count": 23,
      "outputs": []
    },
    {
      "cell_type": "code",
      "source": "ob3.test_class1()",
      "metadata": {
        "trusted": true
      },
      "execution_count": 25,
      "outputs": [
        {
          "name": "stdout",
          "text": "This is my class1\n",
          "output_type": "stream"
        }
      ]
    },
    {
      "cell_type": "code",
      "source": "ob3.test_class2()",
      "metadata": {
        "trusted": true
      },
      "execution_count": 27,
      "outputs": [
        {
          "name": "stdout",
          "text": "this is class2\n",
          "output_type": "stream"
        }
      ]
    },
    {
      "cell_type": "markdown",
      "source": "In the above example class3 has derived the properties of class1 and class2",
      "metadata": {}
    },
    {
      "cell_type": "code",
      "source": "",
      "metadata": {},
      "execution_count": null,
      "outputs": []
    }
  ]
}