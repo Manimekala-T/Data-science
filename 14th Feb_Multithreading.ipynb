{
 "cells": [
  {
   "cell_type": "markdown",
   "id": "835e9f59-f807-45d0-a539-1edb5e7bcbb0",
   "metadata": {},
   "source": [
    "Q1. Multithreading is a threading technique in Python programming to run multiple threads concurrently by rapidly switching between threads with a CPU help (called context switching). \n",
    "\n",
    "use:\n",
    "It allows sharing of its data space with the main threads inside a process that share information and communication with other threads easier than individual processes. Multithreading aims to perform multiple tasks simultaneously, which increases performance, speed and improves the rendering of the application\n",
    "\n",
    "threading module is used to handle the threads in python."
   ]
  },
  {
   "cell_type": "markdown",
   "id": "edc4bd07-5cd8-4640-87dd-6504ea5e3809",
   "metadata": {},
   "source": [
    "Q2. A threading module is made up of a Thread class, which is instantiated to create a Python thread.\n",
    "\n",
    "Target: It defines the function name that is executed by the thread.\n",
    "Args: It defines the arguments that are passed to the target function name."
   ]
  },
  {
   "cell_type": "markdown",
   "id": "30412b1f-4eca-468a-b1f9-2f5ad8e88c7d",
   "metadata": {},
   "source": [
    "The threading.active_count() is an inbuilt method of the threading module, it is used to return the number of Thread objects that are active at any instant.\n",
    "\n",
    "The threading.current_thread() is an inbuilt method of the threading module, it is used to return the current Thread object, which corresponds to the caller's thread of control.\n",
    "\n",
    "threading.enumerate() − Returns a list of all thread objects that are currently active."
   ]
  },
  {
   "cell_type": "markdown",
   "id": "5931d298-fbd6-459e-aeb1-05f8ec4e2f63",
   "metadata": {},
   "source": [
    "Enumerate() method adds a counter to an iterable and returns it in a form of enumerating object. This enumerated object can then be used directly for loops or converted into a list of tuples using the list() function."
   ]
  },
  {
   "cell_type": "markdown",
   "id": "75d4db03-a184-4ecf-95cc-de6c824e79ee",
   "metadata": {},
   "source": [
    "Q3.\n",
    "run() − The run() method is the entry point for a thread.\n",
    "\n",
    "start() − The start() method starts a thread by calling the run method.\n",
    "\n",
    "join([time]) − The join() waits for threads to terminate.\n",
    "\n",
    "isAlive() − The isAlive() method checks whether a thread is still executing."
   ]
  },
  {
   "cell_type": "markdown",
   "id": "6100cfd0-2b89-47d5-ac21-61ddd2e4c325",
   "metadata": {},
   "source": [
    "Q4. Thread program example:"
   ]
  },
  {
   "cell_type": "code",
   "execution_count": 23,
   "id": "8fc6b5a8-2107-45a8-89fb-4744415979b8",
   "metadata": {},
   "outputs": [
    {
     "name": "stdout",
     "output_type": "stream",
     "text": [
      "the squares are:\n",
      "1\n",
      "4\n",
      "9\n",
      "16\n",
      "25\n",
      "36\n",
      "49\n",
      "64\n",
      "81\n",
      "the cubes are:\n",
      "1\n",
      "8\n",
      "27\n",
      "64\n",
      "125\n",
      "216\n",
      "343\n",
      "512\n",
      "729\n"
     ]
    }
   ],
   "source": [
    "import threading\n",
    "\n",
    "def squa(i):\n",
    "    print(\"the squares are:\")\n",
    "    for i in range(1,10):\n",
    "     print(i*i)\n",
    "def cubes(i):\n",
    "    print(\"the cubes are:\")\n",
    "    for i in range(1,10):\n",
    "     print(i*i*i)\n",
    "t1=threading.Thread(target=squa,args=(i,))\n",
    "t2=threading.Thread(target=cubes,args=(i,))\n",
    "t1.start()\n",
    "t2.start()"
   ]
  },
  {
   "cell_type": "markdown",
   "id": "c49111b0-3722-40bc-805f-a6e9c4424e1a",
   "metadata": {},
   "source": [
    "Q5.The advantages include:\n",
    "1. Since the threads are independent of each other, the user is not blocked.\n",
    "2. Since the threads do parallel execution, the resources of the device can be used efficiently.\n",
    "3. Enhance the performance of the multi-processor machines.\n",
    "4. Many of the GUIs and CPUs used in the current days include multithreading.\n",
    "\n",
    "The disadvantages are:\n",
    "1. The complexity increases with the increase in the number of threads\n",
    "2. It is necessary to maintain synchronization while sharing the resources among multiple threads\n",
    "3. It is difficult to debug the programs with threads as the result is sometimes unpredictable.\n",
    "4. The process of constructing and synchronizing the threads is CPU/memory intensive."
   ]
  },
  {
   "cell_type": "markdown",
   "id": "e70f9d91-d91e-45fc-99d6-9e7cf610c5f4",
   "metadata": {},
   "source": [
    "Q6.\n",
    "A deadlock is a concurrency failure mode where a thread or threads wait for a condition that never occurs.\n",
    "The result is that the deadlock threads are unable to progress and the program is stuck or frozen and must be terminated forcefully.\n",
    "\n",
    "eg:\n",
    "\n",
    "A thread that waits on itself (e.g. attempts to acquire the same mutex lock twice).\n",
    "Threads that wait on each other (e.g. A waits on B, B waits on A).\n",
    "Thread that fails to release a resource (e.g. mutex lock, semaphore, barrier, condition, event, etc.).\n",
    "Threads that acquire mutex locks in different orders (e.g. fail to perform lock ordering).\n",
    "                               ------------------------------------------------------------\n",
    "A race condition is a situation that may occur inside a critical section. This happens when the result of multiple thread execution in critical section differs according to the order in which the threads execute.\n",
    "\n",
    "Race conditions in critical sections can be avoided if the critical section is treated as an atomic instruction."
   ]
  },
  {
   "cell_type": "code",
   "execution_count": null,
   "id": "36daa234-f2ff-4624-8d30-43739c2185e5",
   "metadata": {},
   "outputs": [],
   "source": []
  }
 ],
 "metadata": {
  "kernelspec": {
   "display_name": "Python 3 (ipykernel)",
   "language": "python",
   "name": "python3"
  },
  "language_info": {
   "codemirror_mode": {
    "name": "ipython",
    "version": 3
   },
   "file_extension": ".py",
   "mimetype": "text/x-python",
   "name": "python",
   "nbconvert_exporter": "python",
   "pygments_lexer": "ipython3",
   "version": "3.10.8"
  }
 },
 "nbformat": 4,
 "nbformat_minor": 5
}
