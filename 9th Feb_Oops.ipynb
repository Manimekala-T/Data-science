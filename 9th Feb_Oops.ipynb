{
  "metadata": {
    "language_info": {
      "codemirror_mode": {
        "name": "python",
        "version": 3
      },
      "file_extension": ".py",
      "mimetype": "text/x-python",
      "name": "python",
      "nbconvert_exporter": "python",
      "pygments_lexer": "ipython3",
      "version": "3.8"
    },
    "kernelspec": {
      "name": "python",
      "display_name": "Python (Pyodide)",
      "language": "python"
    }
  },
  "nbformat_minor": 4,
  "nbformat": 4,
  "cells": [
    {
      "cell_type": "markdown",
      "source": "Q1.",
      "metadata": {}
    },
    {
      "cell_type": "code",
      "source": "class vehicle:\n    def __init__(self,name_of_vehicle,max_speed,average_of_vehicle):\n        self.name_of_vehicle=name_of_vehicle\n        self.max_speed=max_speed\n        self.average_of_vehicle=average_of_vehicle\n    def details(self):\n        return self.name_of_vehicle,self.max_speed,self.average_of_vehicle",
      "metadata": {
        "trusted": true
      },
      "execution_count": 103,
      "outputs": []
    },
    {
      "cell_type": "code",
      "source": "obj=vehicle('bike','50km',40)",
      "metadata": {
        "trusted": true
      },
      "execution_count": 104,
      "outputs": []
    },
    {
      "cell_type": "code",
      "source": "obj.details()",
      "metadata": {
        "trusted": true
      },
      "execution_count": 105,
      "outputs": [
        {
          "execution_count": 105,
          "output_type": "execute_result",
          "data": {
            "text/plain": "('bike', '50km', 40)"
          },
          "metadata": {}
        }
      ]
    },
    {
      "cell_type": "markdown",
      "source": "Q2.",
      "metadata": {}
    },
    {
      "cell_type": "code",
      "source": "class vehicle:\n    def __init__(self,name_of_vehicle,max_speed,average_of_vehicle):\n        self.name_of_vehicle=name_of_vehicle\n        self.max_speed=max_speed\n        self.average_of_vehicle=average_of_vehicle\n\nclass car(vehicle):\n    def seating_capacity(self,capacity):\n        self.capacity=capacity\n        return self.name_of_vehicle,self.capacity",
      "metadata": {
        "tags": [],
        "trusted": true
      },
      "execution_count": 106,
      "outputs": []
    },
    {
      "cell_type": "code",
      "source": "car1=car('toyota',80,70)",
      "metadata": {
        "trusted": true
      },
      "execution_count": 107,
      "outputs": []
    },
    {
      "cell_type": "code",
      "source": "car1.seating_capacity(5)",
      "metadata": {
        "trusted": true
      },
      "execution_count": 108,
      "outputs": [
        {
          "execution_count": 108,
          "output_type": "execute_result",
          "data": {
            "text/plain": "('toyota', 5)"
          },
          "metadata": {}
        }
      ]
    },
    {
      "cell_type": "markdown",
      "source": "Q3.When a class is derived from more than one base class it is called multiple Inheritance. The derived class inherits all the features of the base case.",
      "metadata": {}
    },
    {
      "cell_type": "code",
      "source": "class Mammal:\n    def mammal_info(self):\n        print(\"Mammals can give direct birth.\")\n\nclass WingedAnimal:\n    def winged_animal_info(self):\n        print(\"Winged animals can flap.\")\n\nclass Bat(Mammal, WingedAnimal):\n    pass",
      "metadata": {
        "trusted": true
      },
      "execution_count": 109,
      "outputs": []
    },
    {
      "cell_type": "code",
      "source": "b=Bat()",
      "metadata": {
        "trusted": true
      },
      "execution_count": 110,
      "outputs": []
    },
    {
      "cell_type": "code",
      "source": "b.mammal_info()",
      "metadata": {
        "trusted": true
      },
      "execution_count": 111,
      "outputs": [
        {
          "name": "stdout",
          "text": "Mammals can give direct birth.\n",
          "output_type": "stream"
        }
      ]
    },
    {
      "cell_type": "code",
      "source": "b.winged_animal_info()",
      "metadata": {
        "trusted": true
      },
      "execution_count": 112,
      "outputs": [
        {
          "name": "stdout",
          "text": "Winged animals can flap.\n",
          "output_type": "stream"
        }
      ]
    },
    {
      "cell_type": "markdown",
      "source": "Q4.Getters are the methods which help access the private attributes or get the value of the private attributes and setters are the methods which help change or set the value of private attributes.",
      "metadata": {}
    },
    {
      "cell_type": "code",
      "source": "class year_graduated:\n   def __init__(self, year=0):\n      self._year = year\n\n   # getter method\n   def get_year(self):\n      return self._year\n\n# setter method\n   def set_year(self, a):\n      self._year = a\n\ngrad_obj = year_graduated()\n# Before using setter\nprint(grad_obj.get_year())\n\n# After using setter\ngrad_obj.set_year(2019)\nprint(grad_obj._year)",
      "metadata": {
        "trusted": true
      },
      "execution_count": 113,
      "outputs": [
        {
          "name": "stdout",
          "text": "0\n2019\n",
          "output_type": "stream"
        }
      ]
    },
    {
      "cell_type": "markdown",
      "source": "Q5.",
      "metadata": {}
    },
    {
      "cell_type": "markdown",
      "source": "Method overriding is an ability of any object-oriented programming language that allows a subclass or child class to provide a specific implementation of a method that is already provided by one of its super-classes or parent classes.",
      "metadata": {}
    },
    {
      "cell_type": "code",
      "source": "\n# Python program to demonstrate \n# method overriding\n  \n  \n# Defining parent class\nclass Parent():\n      \n    # Constructor\n    def __init__(self):\n        self.value = \"Inside Parent\"\n          \n    # Parent's show method\n    def show(self):\n        print(self.value)\n          \n# Defining child class\nclass Child(Parent):\n      \n    # Constructor\n    def __init__(self):\n        self.value = \"Inside Child\"\n          \n    # Child's show method\n    def show(self):\n        print(self.value)",
      "metadata": {
        "trusted": true
      },
      "execution_count": 114,
      "outputs": []
    },
    {
      "cell_type": "code",
      "source": "obj1 = Parent()",
      "metadata": {
        "trusted": true
      },
      "execution_count": 115,
      "outputs": []
    },
    {
      "cell_type": "code",
      "source": "obj2 = Child()\n",
      "metadata": {
        "trusted": true
      },
      "execution_count": 116,
      "outputs": []
    },
    {
      "cell_type": "code",
      "source": "obj1.show()",
      "metadata": {
        "trusted": true
      },
      "execution_count": 117,
      "outputs": [
        {
          "name": "stdout",
          "text": "Inside Parent\n",
          "output_type": "stream"
        }
      ]
    },
    {
      "cell_type": "code",
      "source": "obj2.show()",
      "metadata": {
        "trusted": true
      },
      "execution_count": 118,
      "outputs": [
        {
          "name": "stdout",
          "text": "Inside Child\n",
          "output_type": "stream"
        }
      ]
    },
    {
      "cell_type": "code",
      "source": "",
      "metadata": {},
      "execution_count": null,
      "outputs": []
    },
    {
      "cell_type": "code",
      "source": "",
      "metadata": {},
      "execution_count": null,
      "outputs": []
    },
    {
      "cell_type": "code",
      "source": "",
      "metadata": {},
      "execution_count": null,
      "outputs": []
    }
  ]
}