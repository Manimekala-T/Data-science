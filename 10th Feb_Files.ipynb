{
  "metadata": {
    "language_info": {
      "codemirror_mode": {
        "name": "python",
        "version": 3
      },
      "file_extension": ".py",
      "mimetype": "text/x-python",
      "name": "python",
      "nbconvert_exporter": "python",
      "pygments_lexer": "ipython3",
      "version": "3.8"
    },
    "kernelspec": {
      "name": "python",
      "display_name": "Python (Pyodide)",
      "language": "python"
    }
  },
  "nbformat_minor": 4,
  "nbformat": 4,
  "cells": [
    {
      "cell_type": "markdown",
      "source": "Q1. open() function is used to open a file.It takes two parametes, filename and mode.\n\n\n\"r\" - Read - Default value. Opens a file for reading, error if the file does not exist\n\n\"a\" - Append - Opens a file for appending, creates the file if it does not exist\n\n\"w\" - Write - Opens a file for writing, creates the file if it does not exist\n\n\"x\" - Create - Creates the specified file, returns an error if the file exists\n\nt\" - Text - Default value. Text mode\n\n\"b\" - Binary - Binary mode (e.g. images)",
      "metadata": {}
    },
    {
      "cell_type": "markdown",
      "source": "Q2.Changes made in the file will not be visible if you forgot to close the file",
      "metadata": {}
    },
    {
      "cell_type": "markdown",
      "source": "Q3. file open ex:",
      "metadata": {}
    },
    {
      "cell_type": "code",
      "source": "f=open('test.txt','w')\nf.write(\"I want to become a Data Scientist\")\nf.close()",
      "metadata": {
        "trusted": true
      },
      "execution_count": 31,
      "outputs": []
    },
    {
      "cell_type": "markdown",
      "source": "Q4.read() reads the entire file and returns a string, readline() reads just one line from a file, and readlines() returns a list of strings representing the lines of the file.",
      "metadata": {}
    },
    {
      "cell_type": "code",
      "source": "f = open(\"test.txt\", \"r\")\nprint(f.read())",
      "metadata": {
        "trusted": true
      },
      "execution_count": 32,
      "outputs": [
        {
          "name": "stdout",
          "text": "I want to become a Data ScientistLearning platform was pwskills\nLearning platform was pwskills\n",
          "output_type": "stream"
        }
      ]
    },
    {
      "cell_type": "code",
      "source": "f = open(\"test.txt\", \"r\")\n\nprint(f.readline(5))",
      "metadata": {
        "trusted": true
      },
      "execution_count": 33,
      "outputs": [
        {
          "name": "stdout",
          "text": "I wan\n",
          "output_type": "stream"
        }
      ]
    },
    {
      "cell_type": "code",
      "source": "f = open(\"test.txt\", \"r\")\n\nprint(f.readlines())",
      "metadata": {
        "tags": [],
        "trusted": true
      },
      "execution_count": 34,
      "outputs": [
        {
          "name": "stdout",
          "text": "['I want to become a Data ScientistLearning platform was pwskills\\n', 'Learning platform was pwskills']\n",
          "output_type": "stream"
        }
      ]
    },
    {
      "cell_type": "code",
      "source": "f=open('test.txt','a')\nf.write(\"\\nLearning platform was pwskills\")\nf.close()",
      "metadata": {
        "trusted": true
      },
      "execution_count": 35,
      "outputs": []
    },
    {
      "cell_type": "code",
      "source": "f = open(\"test.txt\", \"r\")\n\nprint(f.readlines())",
      "metadata": {
        "trusted": true
      },
      "execution_count": 36,
      "outputs": [
        {
          "name": "stdout",
          "text": "['I want to become a Data ScientistLearning platform was pwskills\\n', 'Learning platform was pwskills\\n', 'Learning platform was pwskills']\n",
          "output_type": "stream"
        }
      ]
    },
    {
      "cell_type": "markdown",
      "source": "Q5.“with statement” creates an execution block and object created in the with statement will be destroyed or gracefully closed when this execution block ends. It means when we used “with statement” with open () function, an execution blocked started and the file object returned by open () function is assigned to file_object.",
      "metadata": {}
    },
    {
      "cell_type": "markdown",
      "source": "Q6. write() and writelines() functions in Python allow you to write data to a file. The write() function is used to write a single string to the file, while the writelines() function is used to write a list of strings to the file",
      "metadata": {}
    },
    {
      "cell_type": "code",
      "source": "file = open(\"test1.txt\", \"w\") ",
      "metadata": {
        "trusted": true
      },
      "execution_count": 37,
      "outputs": []
    },
    {
      "cell_type": "code",
      "source": "text = \"Hello, write() function!\"\nnum_chars = file.write(text)\nprint(f\"Number of characters written: {num_chars}\")\nfile.close()",
      "metadata": {
        "trusted": true
      },
      "execution_count": 38,
      "outputs": [
        {
          "name": "stdout",
          "text": "Number of characters written: 24\n",
          "output_type": "stream"
        }
      ]
    },
    {
      "cell_type": "code",
      "source": "with open(\"test1.txt\", \"a\") as file:\n    file.writelines([\"Line 1\\n\", \"Line 2\\n\", \"Line 3\\n\"])\n    file.close",
      "metadata": {
        "trusted": true
      },
      "execution_count": 39,
      "outputs": []
    },
    {
      "cell_type": "code",
      "source": "",
      "metadata": {},
      "execution_count": null,
      "outputs": []
    },
    {
      "cell_type": "code",
      "source": "",
      "metadata": {},
      "execution_count": null,
      "outputs": []
    },
    {
      "cell_type": "code",
      "source": "",
      "metadata": {},
      "execution_count": null,
      "outputs": []
    }
  ]
}