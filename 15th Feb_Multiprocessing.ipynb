{
 "cells": [
  {
   "cell_type": "markdown",
   "id": "cdfd9be2-e300-4be5-943a-4cf18d061503",
   "metadata": {},
   "source": [
    "Q1. What is multiprocessing in python? Why is it useful?\n",
    "\n",
    "A process of running multiple process simultaneously within a single thread.\n",
    "\n",
    "uses:\n",
    "\n",
    "To improve the performance of a program by using multiple cpu's and cpu core's \n",
    "                     "
   ]
  },
  {
   "cell_type": "markdown",
   "id": "23f4e671-e3d1-4f75-8f22-6be348e4d178",
   "metadata": {},
   "source": [
    "Q2. What are the differences between multiprocessing and multithreading?\n",
    "\n",
    "Multithreading runs multiple threads simultaneously within a single process whereas\n",
    "Multithreading runs multiple process simultaneously withing a single thread.\n",
    "                    "
   ]
  },
  {
   "cell_type": "markdown",
   "id": "57bce844-a033-4268-85ce-b16fa745c8b3",
   "metadata": {},
   "source": [
    "Q3. Write a python code to create a process using the multiprocessing module."
   ]
  },
  {
   "cell_type": "code",
   "execution_count": 3,
   "id": "18629695-8c7d-4916-9500-904f9954d3b7",
   "metadata": {},
   "outputs": [
    {
     "name": "stdout",
     "output_type": "stream",
     "text": [
      "hi\n"
     ]
    }
   ],
   "source": [
    "import multiprocessing\n",
    "\n",
    "def test():\n",
    "    print(\"hi\")\n",
    "\n",
    "if __name__=='__main__':\n",
    "    m=multiprocessing.Process(target=test)\n",
    "    m.start()\n",
    "    m.join()"
   ]
  },
  {
   "cell_type": "markdown",
   "id": "8953ecf0-29ed-479a-b5e3-fbf2782455bf",
   "metadata": {},
   "source": [
    "Q4. What is a multiprocessing pool in python? Why is it used?"
   ]
  },
  {
   "cell_type": "markdown",
   "id": "42dc012b-2615-43c5-aeca-6e491a91e983",
   "metadata": {},
   "source": [
    "A set of process that can be exceuted concurrently to perform a specific task."
   ]
  },
  {
   "cell_type": "markdown",
   "id": "5b590f32-129c-4960-b1ca-8b0d31204642",
   "metadata": {},
   "source": [
    "Q5. How can we create a pool of worker processes in python using the multiprocessing module?"
   ]
  },
  {
   "cell_type": "code",
   "execution_count": 8,
   "id": "1ff443fe-8411-4f4e-84a3-5b7312f13368",
   "metadata": {},
   "outputs": [
    {
     "name": "stdout",
     "output_type": "stream",
     "text": [
      "[4, 9, 16, 25]\n"
     ]
    }
   ],
   "source": [
    "import multiprocessing\n",
    "\n",
    "def squa(n):\n",
    "    return n**2\n",
    "\n",
    "if __name__=='__main__':\n",
    "    with multiprocessing.Pool(processes=4) as pool:\n",
    "        out=pool.map(squa,[2,3,4,5])\n",
    "        print(out)"
   ]
  },
  {
   "cell_type": "markdown",
   "id": "1bc8e340-6d8c-4c35-9d74-e430e8a28164",
   "metadata": {},
   "source": [
    "Q6. Write a python program to create 4 processes, each process should print a different number using the\n",
    "multiprocessing module in python."
   ]
  },
  {
   "cell_type": "code",
   "execution_count": 4,
   "id": "a6b89571-68fa-4b88-9ca0-327649b02a88",
   "metadata": {},
   "outputs": [
    {
     "name": "stdout",
     "output_type": "stream",
     "text": [
      "1\n",
      "2\n",
      "3\n",
      "4\n"
     ]
    }
   ],
   "source": [
    "import multiprocessing\n",
    "\n",
    "def test():\n",
    "    print(\"1\")\n",
    "\n",
    "def test1():\n",
    "    print(\"2\")\n",
    "\n",
    "def test2():\n",
    "    print(\"3\")\n",
    "\n",
    "def test3():\n",
    "    print(\"4\")\n",
    "if __name__=='__main__':\n",
    "    m1=multiprocessing.Process(target=test)\n",
    "    m2=multiprocessing.Process(target=test1)\n",
    "    m3=multiprocessing.Process(target=test2)\n",
    "    m4=multiprocessing.Process(target=test3)\n",
    "    m1.start()\n",
    "    m2.start()\n",
    "    m3.start()\n",
    "    m4.start()\n",
    "    m1.join()\n",
    "    m2.join()\n",
    "    m3.join()\n",
    "    m4.join()"
   ]
  },
  {
   "cell_type": "code",
   "execution_count": null,
   "id": "76bcfc2a-843d-42a1-b0f2-c9d1b0f60afc",
   "metadata": {},
   "outputs": [],
   "source": []
  },
  {
   "cell_type": "code",
   "execution_count": null,
   "id": "2aea66a0-4ac3-432c-a735-498e1d33cc5b",
   "metadata": {},
   "outputs": [],
   "source": []
  }
 ],
 "metadata": {
  "kernelspec": {
   "display_name": "Python 3 (ipykernel)",
   "language": "python",
   "name": "python3"
  },
  "language_info": {
   "codemirror_mode": {
    "name": "ipython",
    "version": 3
   },
   "file_extension": ".py",
   "mimetype": "text/x-python",
   "name": "python",
   "nbconvert_exporter": "python",
   "pygments_lexer": "ipython3",
   "version": "3.10.8"
  }
 },
 "nbformat": 4,
 "nbformat_minor": 5
}
